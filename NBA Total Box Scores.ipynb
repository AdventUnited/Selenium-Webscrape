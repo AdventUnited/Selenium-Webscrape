{
 "cells": [
  {
   "cell_type": "markdown",
   "metadata": {},
   "source": [
    "# NBA Box Scores\n",
    "## Per Team for ALL 2018 - 2019 Season\n",
    "### Using Selenium and Beautiful Soup"
   ]
  },
  {
   "cell_type": "code",
   "execution_count": null,
   "metadata": {},
   "outputs": [],
   "source": [
    "from urllib import request\n",
    "from bs4 import BeautifulSoup\n",
    "from selenium import webdriver\n",
    "from selenium.webdriver.common.keys import Keys\n",
    "\n",
    "import re\n",
    "import os"
   ]
  },
  {
   "cell_type": "code",
   "execution_count": null,
   "metadata": {},
   "outputs": [],
   "source": [
    "from selenium.common.exceptions import NoSuchElementException\n",
    "url = 'https://www.basketball-reference.com/leagues/NBA_2019_games.html'\n",
    "\n",
    "driver = webdriver.Chrome(\"C:/Users/Maximilliano/Documents/IST 707/Final Project/chromedriver.exe\")\n",
    "driver.implicitly_wait(10)\n",
    "driver.get(url)\n",
    "x = 1\n",
    "y = 1\n",
    "\n",
    "box_score_list = []\n",
    "\n",
    "def data_clean(x):\n",
    "    test = re.sub('[\\n]','',x)\n",
    "    test = re.sub(\"'\",' ', test)\n",
    "    test = test.rstrip(\",''\")\n",
    "    test = test[:-2]\n",
    "    test = test.replace(\" \", \"\")\n",
    "    test = test.split(',')\n",
    "    return test\n",
    "\n",
    "while x <= 7:\n",
    "\n",
    "    driver.find_element_by_xpath('//*[@id=\"content\"]/div[3]/div[{}]/a'.format(x)).send_keys(Keys.ENTER)\n",
    "    soup_level0 = BeautifulSoup(driver.page_source, 'lxml')\n",
    "    box_score = soup_level0.find_all(\"td\",{\"data-stat\":\"box_score_text\"})\n",
    "    y=1\n",
    "    while y <= len(box_score):\n",
    "        try:\n",
    "        #table_length = soup_level0.find_all('table')\n",
    "            driver.find_element_by_xpath('//*[@id=\"schedule\"]/tbody/tr[{}]/td[6]/a'.format(y)).send_keys(Keys.ENTER)\n",
    "            soup_level1 = BeautifulSoup(driver.page_source, 'lxml')\n",
    "            table = soup_level1.find_all('tfoot')\n",
    "            basic = [BeautifulSoup.get_text(data, separator=\"','\") for data in table]\n",
    "            value = [data_clean(x) for x in basic]\n",
    "            box_score_list.append(value)\n",
    "            driver.execute_script(\"window.history.go(-1)\")\n",
    "            y += 1\n",
    "        except NoSuchElementException:\n",
    "            print(\"There is a loop and you need to stop it!!\")\n",
    "            break\n",
    "        else:\n",
    "            print(\"...\")\n",
    "            continue\n",
    "    driver.execute_script(\"window.history.go(-1)\")  \n",
    "    driver.implicitly_wait(10)\n",
    "    x+=1\n",
    "driver.quit()   \n",
    "\n",
    "import pandas as pd\n",
    "new_list = [ all_data for data in box_score_list for all_data in data]\n"
    "colnames = ['Totals','MP','FG', 'FGA', 'FGPct', '3P','3PA','3PPct','FT', 'FTA', 'FTPct', 'ORB', 'DRB', 'TRB', 'AST', 'STL', 'BLK', 'TOV', 'PF', 'PTS']\n",
    "Team_Totals = pd.DataFrame(new_list, columns= colnames)\n",
    "Team_Totals = Team_Totals.iloc[::2]\n",
    "\n",
    "Team_Totals = Team_Totals.reset_index()\n",
    "\n",
    "Team_Totals.to_csv(\"teamtotalnew.csv\", sep=',', encoding = 'utf-8')"
   ]
  }
 ],
 "metadata": {
  "kernelspec": {
   "display_name": "Python 3",
   "language": "python",
   "name": "python3"
  },
  "language_info": {
   "codemirror_mode": {
    "name": "ipython",
    "version": 3
   },
   "file_extension": ".py",
   "mimetype": "text/x-python",
   "name": "python",
   "nbconvert_exporter": "python",
   "pygments_lexer": "ipython3",
   "version": "3.6.7"
  }
 },
 "nbformat": 4,
 "nbformat_minor": 2
}
